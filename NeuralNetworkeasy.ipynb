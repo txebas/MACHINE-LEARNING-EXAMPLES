{
  "nbformat": 4,
  "nbformat_minor": 0,
  "metadata": {
    "colab": {
      "provenance": []
    },
    "kernelspec": {
      "name": "python3",
      "display_name": "Python 3"
    },
    "language_info": {
      "name": "python"
    }
  },
  "cells": [
    {
      "cell_type": "code",
      "execution_count": 6,
      "metadata": {
        "colab": {
          "base_uri": "https://localhost:8080/"
        },
        "id": "aWBOQSFONbq8",
        "outputId": "687dfa14-6013-435d-febb-bc00fd5a6291"
      },
      "outputs": [
        {
          "output_type": "stream",
          "name": "stderr",
          "text": [
            "WARNING:tensorflow:6 out of the last 6 calls to <function Model.make_test_function.<locals>.test_function at 0x7b4517032710> triggered tf.function retracing. Tracing is expensive and the excessive number of tracings could be due to (1) creating @tf.function repeatedly in a loop, (2) passing tensors with different shapes, (3) passing Python objects instead of tensors. For (1), please define your @tf.function outside of the loop. For (2), @tf.function has reduce_retracing=True option that can avoid unnecessary retracing. For (3), please refer to https://www.tensorflow.org/guide/function#controlling_retracing and https://www.tensorflow.org/api_docs/python/tf/function for  more details.\n"
          ]
        },
        {
          "output_type": "stream",
          "name": "stdout",
          "text": [
            "1/1 [==============================] - 0s 141ms/step - loss: 0.0116 - accuracy: 1.0000\n"
          ]
        },
        {
          "output_type": "stream",
          "name": "stderr",
          "text": [
            "WARNING:tensorflow:6 out of the last 6 calls to <function Model.make_predict_function.<locals>.predict_function at 0x7b4517033370> triggered tf.function retracing. Tracing is expensive and the excessive number of tracings could be due to (1) creating @tf.function repeatedly in a loop, (2) passing tensors with different shapes, (3) passing Python objects instead of tensors. For (1), please define your @tf.function outside of the loop. For (2), @tf.function has reduce_retracing=True option that can avoid unnecessary retracing. For (3), please refer to https://www.tensorflow.org/guide/function#controlling_retracing and https://www.tensorflow.org/api_docs/python/tf/function for  more details.\n"
          ]
        },
        {
          "output_type": "stream",
          "name": "stdout",
          "text": [
            "Pérdida: 0.0116, Precisión: 1.0000\n",
            "1/1 [==============================] - 0s 55ms/step\n",
            "Predicciones:\n",
            "Entrada: [0 0], Predicción: 0.0194\n",
            "Entrada: [0 1], Predicción: 0.9941\n",
            "Entrada: [1 0], Predicción: 0.9988\n",
            "Entrada: [1 1], Predicción: 0.0194\n"
          ]
        }
      ],
      "source": [
        "import numpy as np\n",
        "import tensorflow as tf\n",
        "from tensorflow.keras.models import Sequential\n",
        "from tensorflow.keras.layers import Dense\n",
        "\n",
        "# Datos de entrada para la compuerta XOR\n",
        "X = np.array([[0, 0], [0, 1], [1, 0], [1, 1]])\n",
        "y = np.array([[0], [1], [1], [0]])\n",
        "\n",
        "# Crear el modelo de la red neuronal\n",
        "model = Sequential()\n",
        "model.add(Dense(8, input_dim=2, activation='relu'))  # Capa oculta con 8 neuronas y función de activación ReLU\n",
        "model.add(Dense(1, activation='sigmoid'))  # Capa de salida con 1 neurona y función de activación sigmoide\n",
        "\n",
        "# Compilar el modelo\n",
        "model.compile(loss='binary_crossentropy', optimizer='adam', metrics=['accuracy'])\n",
        "\n",
        "# Entrenar la red neuronal\n",
        "model.fit(X, y, epochs=5000, verbose=0)\n",
        "\n",
        "# Evaluar el modelo\n",
        "loss, accuracy = model.evaluate(X, y)\n",
        "print(f\"Pérdida: {loss:.4f}, Precisión: {accuracy:.4f}\")\n",
        "\n",
        "# Predecir valores\n",
        "predictions = model.predict(X)\n",
        "print(\"Predicciones:\")\n",
        "for i in range(len(X)):\n",
        "    print(f\"Entrada: {X[i]}, Predicción: {predictions[i][0]:.4f}\")"
      ]
    }
  ]
}